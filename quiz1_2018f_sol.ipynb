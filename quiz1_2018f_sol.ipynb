{
 "cells": [
  {
   "cell_type": "markdown",
   "metadata": {},
   "source": [
    "<b>Q1: Is Python interpreted or compiled?</b>\n",
    "\n",
    "Answer: "
   ]
  },
  {
   "cell_type": "markdown",
   "metadata": {},
   "source": [
    "<b>Q2: Write a program to read two integers and print the average of those numbers?</b>"
   ]
  },
  {
   "cell_type": "code",
   "execution_count": 3,
   "metadata": {},
   "outputs": [
    {
     "name": "stdout",
     "output_type": "stream",
     "text": [
      "Enter an integer:4\n",
      "Enter another integer:5\n",
      "4.5\n"
     ]
    }
   ],
   "source": [
    "i = int(input(\"Enter an integer:\"))\n",
    "j = int(input(\"Enter another integer:\"))\n",
    "print((i+j)/2)"
   ]
  },
  {
   "cell_type": "markdown",
   "metadata": {},
   "source": [
    "<b>Q3: Complete the following program to run as expected:</b>"
   ]
  },
  {
   "cell_type": "code",
   "execution_count": 11,
   "metadata": {},
   "outputs": [
    {
     "name": "stdout",
     "output_type": "stream",
     "text": [
      "Minimum:  2\n",
      "Maximum:  13\n",
      "Average:  6.75\n"
     ]
    }
   ],
   "source": [
    "def max(l):\n",
    "    m = l[0]\n",
    "    for x in l:\n",
    "        if x>m:\n",
    "            m = x\n",
    "    return m\n",
    "\n",
    "def min(l):\n",
    "    m = l[0]\n",
    "    for x in l:\n",
    "        if x<m:\n",
    "            m = x\n",
    "    return m\n",
    "\n",
    "def avg(l):\n",
    "    m = 0.0\n",
    "    for x in l:\n",
    "        m += x\n",
    "    return m / len(l)\n",
    "\n",
    "list = [6, 4, 7, 13, 5, 8, 9, 2]\n",
    "print(\"Minimum: \", min(list))\n",
    "print(\"Maximum: \", max(list))\n",
    "print(\"Average: \", avg(list))"
   ]
  },
  {
   "cell_type": "markdown",
   "metadata": {},
   "source": [
    "<b>Q4: Complete the following program, when asked for Name, user enters a name and the program prints the grade of the student from the given dictionary. Program stops when 0 entered.</b>"
   ]
  },
  {
   "cell_type": "code",
   "execution_count": 17,
   "metadata": {},
   "outputs": [
    {
     "name": "stdout",
     "output_type": "stream",
     "text": [
      "Name:ayşe\n",
      "80\n",
      "Name:ali\n",
      "50\n",
      "Name:selin\n",
      "64\n",
      "Name:cem\n",
      "76\n",
      "Name:ahmet\n",
      "ahmet  is not in the dictionary\n",
      "Name:0\n"
     ]
    }
   ],
   "source": [
    "d = {'ali':50, 'ayşe':80, 'cem': 76, 'selin':64}\n",
    "while (True):\n",
    "    n = input('Name:')\n",
    "    if (n=='0'):\n",
    "        break\n",
    "    try:\n",
    "        print(d[n])\n",
    "    except:\n",
    "        print(n,' is not in the dictionary')"
   ]
  },
  {
   "cell_type": "code",
   "execution_count": 36,
   "metadata": {},
   "outputs": [
    {
     "name": "stdout",
     "output_type": "stream",
     "text": [
      "2\n",
      "1.5\n",
      "2\n",
      "3.5\n",
      "2\n",
      "2.0\n",
      "2\n"
     ]
    }
   ],
   "source": [
    "list = [2, 1, 5, 7, 2, 0, 5]\n",
    "for i in range(len(list)):\n",
    "    sub = sorted(list[0:i+1])\n",
    "    l = len(sub)\n",
    "    if l%2 == 0 and l>1:\n",
    "        print((sub[l//2-1]+sub[l//2])/2)\n",
    "    else:\n",
    "        print(sub[l//2])"
   ]
  },
  {
   "cell_type": "markdown",
   "metadata": {},
   "source": [
    "<b>Q5: Complete the following program</b>"
   ]
  },
  {
   "cell_type": "code",
   "execution_count": 37,
   "metadata": {},
   "outputs": [
    {
     "data": {
      "text/plain": [
       "[533, 109, 362, 5, 237, 40, 338, 852, 378, 720]"
      ]
     },
     "execution_count": 37,
     "metadata": {},
     "output_type": "execute_result"
    }
   ],
   "source": [
    "import random\n",
    "list = [int(random.random()*1000) for _ in range(1000)]\n",
    "list[:10]"
   ]
  },
  {
   "cell_type": "code",
   "execution_count": 41,
   "metadata": {},
   "outputs": [
    {
     "data": {
      "text/plain": [
       "[5, 1, 3, 0, 2, 0, 3, 8, 3, 7]"
      ]
     },
     "execution_count": 41,
     "metadata": {},
     "output_type": "execute_result"
    }
   ],
   "source": [
    "dec = [x//100 for x in list]\n",
    "dec[:10]"
   ]
  },
  {
   "cell_type": "code",
   "execution_count": 42,
   "metadata": {},
   "outputs": [
    {
     "data": {
      "text/plain": [
       "{0: 92, 1: 99, 2: 99, 3: 103, 4: 99, 5: 106, 6: 104, 7: 98, 8: 108, 9: 92}"
      ]
     },
     "execution_count": 42,
     "metadata": {},
     "output_type": "execute_result"
    }
   ],
   "source": [
    "import matplotlib.pyplot as plt\n",
    "# https://matplotlib.org/users/pyplot_tutorial.html\n",
    "dict = {}\n",
    "# count each number 1s, 2s, etc. in the dec list, for the above example there are two of 1, one of 6, etc.\n",
    "for x in dec:\n",
    "    try:\n",
    "        dict[x] = dict[x] + 1\n",
    "    except:\n",
    "        dict[x] = 1\n",
    "# print dict\n",
    "dict"
   ]
  },
  {
   "cell_type": "code",
   "execution_count": 40,
   "metadata": {},
   "outputs": [
    {
     "data": {
      "text/plain": [
       "<Container object of 100 artists>"
      ]
     },
     "execution_count": 40,
     "metadata": {},
     "output_type": "execute_result"
    },
    {
     "data": {
      "image/png": "[encoded data removed]",
      "text/plain": [
       "<matplotlib.figure.Figure at 0x1093d09b0>"
      ]
     },
     "metadata": {},
     "output_type": "display_data"
    }
   ],
   "source": [
    "# display bar graph for the dict\n",
    "plt.bar(dict.keys(),dict.values())"
   ]
  },
  {
   "cell_type": "code",
   "execution_count": null,
   "metadata": {},
   "outputs": [],
   "source": []
  }
 ],
 "metadata": {
  "kernelspec": {
   "display_name": "Python 3",
   "language": "python",
   "name": "python3"
  },
  "language_info": {
   "codemirror_mode": {
    "name": "ipython",
    "version": 3
   },
   "file_extension": ".py",
   "mimetype": "text/x-python",
   "name": "python",
   "nbconvert_exporter": "python",
   "pygments_lexer": "ipython3",
   "version": "3.6.4"
  }
 },
 "nbformat": 4,
 "nbformat_minor": 2
}
