{
 "cells": [
  {
   "cell_type": "markdown",
   "metadata": {},
   "source": [
    "# Python Pandas"
   ]
  },
  {
   "cell_type": "markdown",
   "metadata": {},
   "source": [
    "Name:\n",
    "\n",
    "ID:\n",
    "\n",
    "Date:"
   ]
  },
  {
   "cell_type": "markdown",
   "metadata": {},
   "source": [
    "## About\n",
    "In this lab you will take your knowledge of Python 3 and learn how to use the Pandas and MatPlotLib libraries.\n",
    "\n",
    "### Learning Outcomes\n",
    "Upon completing this lab you will be able to: - Understand the Pandas and MatPlotLib libraries - Manipulate data with Pandas - Plot data with MatPlotLib.\n",
    "\n",
    "### Requirements\n",
    "To complete this lab you will need:\n",
    "\n",
    "* Anaconda Distribution of Python3.\n",
    "* A clone of the mafudge/datasets repository on Github: https://github.com/mafudge/datasets this should be placed in your home directory where you are doing this lab.\n",
    "\n",
    "NOTE: We can’t teach you everything about Pandas and MathPlotLib, that’s why we recommend the following resources:\n",
    "\n",
    "* The Pandas Tutorial: http://pandas.pydata.org/pandas-docs/stable/tutorials.html\n",
    "* The MatPlotLib Beginner’s Guide: http://matplotlib.org/users/beginner.html\n",
    "\n",
    "Note: This lab is adapted from: http://classes.ischool.syr.edu/ist718/content/unit02/lab-pandas/"
   ]
  },
  {
   "cell_type": "markdown",
   "metadata": {},
   "source": [
    "## Pandas: The Basics\n",
    "Pandas is an open-source library for data analysis in Python. Pandas makes it simple to structure and manipulate data.\n",
    "\n",
    "### Getting Started\n",
    "* Create a new Notebook in Jupyter and rename it Pandas Basic\n",
    "* In the first cell, import the pandas and numpy libraries, execute the following:"
   ]
  },
  {
   "cell_type": "code",
   "execution_count": 1,
   "metadata": {},
   "outputs": [],
   "source": [
    "import pandas as pd\n",
    "import numpy as np\n",
    "from pandas import DataFrame, Series"
   ]
  },
  {
   "cell_type": "markdown",
   "metadata": {},
   "source": [
    "* Pandas uses two key data structures the Series and the DataFrame. A Series is a special labeled list of values. A DataFrame is a dictionary of Series and is used to represent tables of data. Let’s begin by making a series, type:"
   ]
  },
  {
   "cell_type": "code",
   "execution_count": 2,
   "metadata": {},
   "outputs": [
    {
     "data": {
      "text/plain": [
       "0    Mon\n",
       "1    Tue\n",
       "2    Wed\n",
       "3    Thu\n",
       "4    Fri\n",
       "dtype: object"
      ]
     },
     "execution_count": 2,
     "metadata": {},
     "output_type": "execute_result"
    }
   ],
   "source": [
    "days = Series(['Mon','Tue','Wed','Thu','Fri'])\n",
    "days"
   ]
  },
  {
   "cell_type": "markdown",
   "metadata": {},
   "source": [
    "* Likewise let’s create a Pandas DataFrame by creating a dictionary of two labeled lists (a.k.a Series). The two series in this example are Day and Sold these represent the column in our DataFrame, and the list of items for each are the data points. Type:"
   ]
  },
  {
   "cell_type": "code",
   "execution_count": 3,
   "metadata": {},
   "outputs": [
    {
     "data": {
      "text/html": [
       "<div>\n",
       "<style scoped>\n",
       "    .dataframe tbody tr th:only-of-type {\n",
       "        vertical-align: middle;\n",
       "    }\n",
       "\n",
       "    .dataframe tbody tr th {\n",
       "        vertical-align: top;\n",
       "    }\n",
       "\n",
       "    .dataframe thead th {\n",
       "        text-align: right;\n",
       "    }\n",
       "</style>\n",
       "<table border=\"1\" class=\"dataframe\">\n",
       "  <thead>\n",
       "    <tr style=\"text-align: right;\">\n",
       "      <th></th>\n",
       "      <th>Day</th>\n",
       "      <th>Sold</th>\n",
       "    </tr>\n",
       "  </thead>\n",
       "  <tbody>\n",
       "    <tr>\n",
       "      <th>0</th>\n",
       "      <td>Mon</td>\n",
       "      <td>45</td>\n",
       "    </tr>\n",
       "    <tr>\n",
       "      <th>1</th>\n",
       "      <td>Tue</td>\n",
       "      <td>55</td>\n",
       "    </tr>\n",
       "    <tr>\n",
       "      <th>2</th>\n",
       "      <td>Wed</td>\n",
       "      <td>60</td>\n",
       "    </tr>\n",
       "    <tr>\n",
       "      <th>3</th>\n",
       "      <td>Thu</td>\n",
       "      <td>70</td>\n",
       "    </tr>\n",
       "    <tr>\n",
       "      <th>4</th>\n",
       "      <td>Fri</td>\n",
       "      <td>65</td>\n",
       "    </tr>\n",
       "  </tbody>\n",
       "</table>\n",
       "</div>"
      ],
      "text/plain": [
       "   Day  Sold\n",
       "0  Mon    45\n",
       "1  Tue    55\n",
       "2  Wed    60\n",
       "3  Thu    70\n",
       "4  Fri    65"
      ]
     },
     "execution_count": 3,
     "metadata": {},
     "output_type": "execute_result"
    }
   ],
   "source": [
    "sales = DataFrame( {'Day' : ['Mon','Tue','Wed','Thu','Fri'], 'Sold': [45,55,60,70,65]})\n",
    "sales"
   ]
  },
  {
   "cell_type": "markdown",
   "metadata": {},
   "source": [
    "## Understanding DataFrames\n",
    "* We can get a list of columns in our DataFrame. Type and execute this:"
   ]
  },
  {
   "cell_type": "code",
   "execution_count": 4,
   "metadata": {},
   "outputs": [
    {
     "data": {
      "text/plain": [
       "Index(['Day', 'Sold'], dtype='object')"
      ]
     },
     "execution_count": 4,
     "metadata": {},
     "output_type": "execute_result"
    }
   ],
   "source": [
    "sales.columns"
   ]
  },
  {
   "cell_type": "code",
   "execution_count": 6,
   "metadata": {},
   "outputs": [
    {
     "data": {
      "text/plain": [
       "0    45\n",
       "1    55\n",
       "2    60\n",
       "3    70\n",
       "4    65\n",
       "Name: Sold, dtype: int64"
      ]
     },
     "execution_count": 6,
     "metadata": {},
     "output_type": "execute_result"
    }
   ],
   "source": [
    "sales.Sold"
   ]
  },
  {
   "cell_type": "markdown",
   "metadata": {},
   "source": [
    "NOTE: We could have also indexed the column by dictionary key like this sales['Sold'] to get the same results"
   ]
  },
  {
   "cell_type": "code",
   "execution_count": 7,
   "metadata": {},
   "outputs": [
    {
     "data": {
      "text/plain": [
       "0    45\n",
       "1    55\n",
       "2    60\n",
       "3    70\n",
       "4    65\n",
       "Name: Sold, dtype: int64"
      ]
     },
     "execution_count": 7,
     "metadata": {},
     "output_type": "execute_result"
    }
   ],
   "source": [
    "sales['Sold']"
   ]
  },
  {
   "cell_type": "markdown",
   "metadata": {},
   "source": [
    "We can use Python array slice notation to retrieve a subset of rows from the DataFrame. Type and execute this: "
   ]
  },
  {
   "cell_type": "code",
   "execution_count": 8,
   "metadata": {},
   "outputs": [
    {
     "data": {
      "text/html": [
       "<div>\n",
       "<style scoped>\n",
       "    .dataframe tbody tr th:only-of-type {\n",
       "        vertical-align: middle;\n",
       "    }\n",
       "\n",
       "    .dataframe tbody tr th {\n",
       "        vertical-align: top;\n",
       "    }\n",
       "\n",
       "    .dataframe thead th {\n",
       "        text-align: right;\n",
       "    }\n",
       "</style>\n",
       "<table border=\"1\" class=\"dataframe\">\n",
       "  <thead>\n",
       "    <tr style=\"text-align: right;\">\n",
       "      <th></th>\n",
       "      <th>Day</th>\n",
       "      <th>Sold</th>\n",
       "    </tr>\n",
       "  </thead>\n",
       "  <tbody>\n",
       "    <tr>\n",
       "      <th>0</th>\n",
       "      <td>Mon</td>\n",
       "      <td>45</td>\n",
       "    </tr>\n",
       "    <tr>\n",
       "      <th>1</th>\n",
       "      <td>Tue</td>\n",
       "      <td>55</td>\n",
       "    </tr>\n",
       "  </tbody>\n",
       "</table>\n",
       "</div>"
      ],
      "text/plain": [
       "   Day  Sold\n",
       "0  Mon    45\n",
       "1  Tue    55"
      ]
     },
     "execution_count": 8,
     "metadata": {},
     "output_type": "execute_result"
    }
   ],
   "source": [
    "sales[0:2]"
   ]
  },
  {
   "cell_type": "markdown",
   "metadata": {},
   "source": [
    "When we execute a boolean expression against a column we get back a Series with the expression evaluated, indicating which rows are True or False. For example, type and execute this: "
   ]
  },
  {
   "cell_type": "code",
   "execution_count": 9,
   "metadata": {},
   "outputs": [
    {
     "data": {
      "text/plain": [
       "0    False\n",
       "1    False\n",
       "2     True\n",
       "3     True\n",
       "4     True\n",
       "Name: Sold, dtype: bool"
      ]
     },
     "execution_count": 9,
     "metadata": {},
     "output_type": "execute_result"
    }
   ],
   "source": [
    "sales.Sold >= 60"
   ]
  },
  {
   "cell_type": "markdown",
   "metadata": {},
   "source": [
    "This is useful when we want to <b>filter</b> rows from the DataFrame. For example this will retrieve only rows with Sold bigger than or equal to 60. Type and execute: "
   ]
  },
  {
   "cell_type": "code",
   "execution_count": 10,
   "metadata": {},
   "outputs": [
    {
     "data": {
      "text/html": [
       "<div>\n",
       "<style scoped>\n",
       "    .dataframe tbody tr th:only-of-type {\n",
       "        vertical-align: middle;\n",
       "    }\n",
       "\n",
       "    .dataframe tbody tr th {\n",
       "        vertical-align: top;\n",
       "    }\n",
       "\n",
       "    .dataframe thead th {\n",
       "        text-align: right;\n",
       "    }\n",
       "</style>\n",
       "<table border=\"1\" class=\"dataframe\">\n",
       "  <thead>\n",
       "    <tr style=\"text-align: right;\">\n",
       "      <th></th>\n",
       "      <th>Day</th>\n",
       "      <th>Sold</th>\n",
       "    </tr>\n",
       "  </thead>\n",
       "  <tbody>\n",
       "    <tr>\n",
       "      <th>2</th>\n",
       "      <td>Wed</td>\n",
       "      <td>60</td>\n",
       "    </tr>\n",
       "    <tr>\n",
       "      <th>3</th>\n",
       "      <td>Thu</td>\n",
       "      <td>70</td>\n",
       "    </tr>\n",
       "    <tr>\n",
       "      <th>4</th>\n",
       "      <td>Fri</td>\n",
       "      <td>65</td>\n",
       "    </tr>\n",
       "  </tbody>\n",
       "</table>\n",
       "</div>"
      ],
      "text/plain": [
       "   Day  Sold\n",
       "2  Wed    60\n",
       "3  Thu    70\n",
       "4  Fri    65"
      ]
     },
     "execution_count": 10,
     "metadata": {},
     "output_type": "execute_result"
    }
   ],
   "source": [
    "sales[sales.Sold >= 60]"
   ]
  },
  {
   "cell_type": "markdown",
   "metadata": {},
   "source": [
    "We can combine approaches to filter rows and then get a single Series, in this case the Day Series. Type and execute: "
   ]
  },
  {
   "cell_type": "code",
   "execution_count": 12,
   "metadata": {},
   "outputs": [
    {
     "data": {
      "text/plain": [
       "2    Wed\n",
       "3    Thu\n",
       "4    Fri\n",
       "Name: Day, dtype: object"
      ]
     },
     "execution_count": 12,
     "metadata": {},
     "output_type": "execute_result"
    }
   ],
   "source": [
    "sales[sales.Sold >= 60].Day"
   ]
  },
  {
   "cell_type": "markdown",
   "metadata": {},
   "source": [
    "## Adding Columns to the DataFrame\n",
    "It’s common practice add your own Series to an existing DataFrame. In this example we will calculate the Percentage Of Total for the Sold column as a Series then and create a new column PoT in our sales DataFrame.\n",
    "\n",
    "* First let’s calculate the total sold by calling sum() on the series Sold. Type and execute: "
   ]
  },
  {
   "cell_type": "code",
   "execution_count": 14,
   "metadata": {},
   "outputs": [
    {
     "data": {
      "text/plain": [
       "295"
      ]
     },
     "execution_count": 14,
     "metadata": {},
     "output_type": "execute_result"
    }
   ],
   "source": [
    "total = sales.Sold.sum()\n",
    "total"
   ]
  },
  {
   "cell_type": "markdown",
   "metadata": {},
   "source": [
    "Next we create a new Series from sales.Sold by dividing each item in the series by total. Type and execute: "
   ]
  },
  {
   "cell_type": "code",
   "execution_count": 16,
   "metadata": {},
   "outputs": [
    {
     "data": {
      "text/plain": [
       "0    0.152542\n",
       "1    0.186441\n",
       "2    0.203390\n",
       "3    0.237288\n",
       "4    0.220339\n",
       "Name: Sold, dtype: float64"
      ]
     },
     "execution_count": 16,
     "metadata": {},
     "output_type": "execute_result"
    }
   ],
   "source": [
    "pot = sales.Sold / total\n",
    "pot"
   ]
  },
  {
   "cell_type": "markdown",
   "metadata": {},
   "source": [
    "Then we use the insert() method to add the Series to the sales DataFrame at position 2 (the end position) with the column name PoT. Type and execute: "
   ]
  },
  {
   "cell_type": "code",
   "execution_count": 19,
   "metadata": {},
   "outputs": [
    {
     "data": {
      "text/html": [
       "<div>\n",
       "<style scoped>\n",
       "    .dataframe tbody tr th:only-of-type {\n",
       "        vertical-align: middle;\n",
       "    }\n",
       "\n",
       "    .dataframe tbody tr th {\n",
       "        vertical-align: top;\n",
       "    }\n",
       "\n",
       "    .dataframe thead th {\n",
       "        text-align: right;\n",
       "    }\n",
       "</style>\n",
       "<table border=\"1\" class=\"dataframe\">\n",
       "  <thead>\n",
       "    <tr style=\"text-align: right;\">\n",
       "      <th></th>\n",
       "      <th>Day</th>\n",
       "      <th>Sold</th>\n",
       "      <th>PoT</th>\n",
       "    </tr>\n",
       "  </thead>\n",
       "  <tbody>\n",
       "    <tr>\n",
       "      <th>0</th>\n",
       "      <td>Mon</td>\n",
       "      <td>45</td>\n",
       "      <td>0.152542</td>\n",
       "    </tr>\n",
       "    <tr>\n",
       "      <th>1</th>\n",
       "      <td>Tue</td>\n",
       "      <td>55</td>\n",
       "      <td>0.186441</td>\n",
       "    </tr>\n",
       "    <tr>\n",
       "      <th>2</th>\n",
       "      <td>Wed</td>\n",
       "      <td>60</td>\n",
       "      <td>0.203390</td>\n",
       "    </tr>\n",
       "    <tr>\n",
       "      <th>3</th>\n",
       "      <td>Thu</td>\n",
       "      <td>70</td>\n",
       "      <td>0.237288</td>\n",
       "    </tr>\n",
       "    <tr>\n",
       "      <th>4</th>\n",
       "      <td>Fri</td>\n",
       "      <td>65</td>\n",
       "      <td>0.220339</td>\n",
       "    </tr>\n",
       "  </tbody>\n",
       "</table>\n",
       "</div>"
      ],
      "text/plain": [
       "   Day  Sold       PoT\n",
       "0  Mon    45  0.152542\n",
       "1  Tue    55  0.186441\n",
       "2  Wed    60  0.203390\n",
       "3  Thu    70  0.237288\n",
       "4  Fri    65  0.220339"
      ]
     },
     "execution_count": 19,
     "metadata": {},
     "output_type": "execute_result"
    }
   ],
   "source": [
    "sales.insert(2,'PoT',pot)\n",
    "sales"
   ]
  },
  {
   "cell_type": "markdown",
   "metadata": {},
   "source": [
    "Now that the column is part of the DataFrame we can use it in filters and column selections. In this example we retrieve rows with a Percentage of Total over 20% and return back a DataFrame of just the Day and PoT Series. "
   ]
  },
  {
   "cell_type": "code",
   "execution_count": 21,
   "metadata": {},
   "outputs": [
    {
     "data": {
      "text/html": [
       "<div>\n",
       "<style scoped>\n",
       "    .dataframe tbody tr th:only-of-type {\n",
       "        vertical-align: middle;\n",
       "    }\n",
       "\n",
       "    .dataframe tbody tr th {\n",
       "        vertical-align: top;\n",
       "    }\n",
       "\n",
       "    .dataframe thead th {\n",
       "        text-align: right;\n",
       "    }\n",
       "</style>\n",
       "<table border=\"1\" class=\"dataframe\">\n",
       "  <thead>\n",
       "    <tr style=\"text-align: right;\">\n",
       "      <th></th>\n",
       "      <th>Day</th>\n",
       "      <th>PoT</th>\n",
       "    </tr>\n",
       "  </thead>\n",
       "  <tbody>\n",
       "    <tr>\n",
       "      <th>2</th>\n",
       "      <td>Wed</td>\n",
       "      <td>0.203390</td>\n",
       "    </tr>\n",
       "    <tr>\n",
       "      <th>3</th>\n",
       "      <td>Thu</td>\n",
       "      <td>0.237288</td>\n",
       "    </tr>\n",
       "    <tr>\n",
       "      <th>4</th>\n",
       "      <td>Fri</td>\n",
       "      <td>0.220339</td>\n",
       "    </tr>\n",
       "  </tbody>\n",
       "</table>\n",
       "</div>"
      ],
      "text/plain": [
       "   Day       PoT\n",
       "2  Wed  0.203390\n",
       "3  Thu  0.237288\n",
       "4  Fri  0.220339"
      ]
     },
     "execution_count": 21,
     "metadata": {},
     "output_type": "execute_result"
    }
   ],
   "source": [
    "sales[sales.PoT > 0.2][['Day','PoT']]"
   ]
  },
  {
   "cell_type": "markdown",
   "metadata": {},
   "source": [
    "NOTE: The brackets [] around 'Day' and 'PoT' retrieve both Series. A collection of Series is a DataFrame in Pandas this is why the results returned are a DataFrame."
   ]
  },
  {
   "cell_type": "markdown",
   "metadata": {},
   "source": [
    "## Reading from Files and Plotting\n",
    "In this final part of the Walk-Through, we will load data from the Superhero Movie Dataset perform some simple manipulations and plot the data as a means of exploring the features in this dataset.\n",
    "\n",
    "* Create a new Notebook in Jupyter and rename it Pandas Advanced\n",
    "* In the first cell, include the following Python packages. Type and execute:"
   ]
  },
  {
   "cell_type": "code",
   "execution_count": 22,
   "metadata": {},
   "outputs": [],
   "source": [
    "import pandas as pd\n",
    "import numpy as np\n",
    "from pandas import DataFrame, Series\n",
    "%matplotlib inline"
   ]
  },
  {
   "cell_type": "markdown",
   "metadata": {},
   "source": [
    "* Notice the %matplotlib inline statement. This asks Jupyter to render the plots underneath the code.\n",
    "* First let’s read the data from the file using Pandas’ read_csv() method. Since this particular data set does not include a header row, we must name each Series in the file. Type in this code:\n"
   ]
  },
  {
   "cell_type": "code",
   "execution_count": 24,
   "metadata": {},
   "outputs": [
    {
     "data": {
      "text/html": [
       "<div>\n",
       "<style scoped>\n",
       "    .dataframe tbody tr th:only-of-type {\n",
       "        vertical-align: middle;\n",
       "    }\n",
       "\n",
       "    .dataframe tbody tr th {\n",
       "        vertical-align: top;\n",
       "    }\n",
       "\n",
       "    .dataframe thead th {\n",
       "        text-align: right;\n",
       "    }\n",
       "</style>\n",
       "<table border=\"1\" class=\"dataframe\">\n",
       "  <thead>\n",
       "    <tr style=\"text-align: right;\">\n",
       "      <th></th>\n",
       "      <th>Year</th>\n",
       "      <th>Title</th>\n",
       "      <th>Comic</th>\n",
       "      <th>IMDB</th>\n",
       "      <th>RT</th>\n",
       "      <th>CompositeRating</th>\n",
       "      <th>OpeningWeekendBoxOffice</th>\n",
       "      <th>AvgTicketPriceThatYear</th>\n",
       "      <th>EstdOpeningAttendance</th>\n",
       "      <th>USPopThatYear</th>\n",
       "    </tr>\n",
       "  </thead>\n",
       "  <tbody>\n",
       "    <tr>\n",
       "      <th>0</th>\n",
       "      <td>1978</td>\n",
       "      <td>Superman</td>\n",
       "      <td>DC</td>\n",
       "      <td>7.3</td>\n",
       "      <td>95</td>\n",
       "      <td>84.0</td>\n",
       "      <td>7465343.0</td>\n",
       "      <td>2.34</td>\n",
       "      <td>3190317.521</td>\n",
       "      <td>222584545</td>\n",
       "    </tr>\n",
       "    <tr>\n",
       "      <th>1</th>\n",
       "      <td>1980</td>\n",
       "      <td>Superman II</td>\n",
       "      <td>DC</td>\n",
       "      <td>6.7</td>\n",
       "      <td>88</td>\n",
       "      <td>77.5</td>\n",
       "      <td>14100523.0</td>\n",
       "      <td>2.69</td>\n",
       "      <td>5241830.112</td>\n",
       "      <td>227224681</td>\n",
       "    </tr>\n",
       "    <tr>\n",
       "      <th>2</th>\n",
       "      <td>1982</td>\n",
       "      <td>Swamp Thing</td>\n",
       "      <td>DC</td>\n",
       "      <td>5.3</td>\n",
       "      <td>60</td>\n",
       "      <td>56.5</td>\n",
       "      <td>NaN</td>\n",
       "      <td>2.94</td>\n",
       "      <td>NaN</td>\n",
       "      <td>231664458</td>\n",
       "    </tr>\n",
       "    <tr>\n",
       "      <th>3</th>\n",
       "      <td>1983</td>\n",
       "      <td>Superman III</td>\n",
       "      <td>DC</td>\n",
       "      <td>4.9</td>\n",
       "      <td>24</td>\n",
       "      <td>36.5</td>\n",
       "      <td>13352357.0</td>\n",
       "      <td>3.15</td>\n",
       "      <td>4238843.492</td>\n",
       "      <td>233791994</td>\n",
       "    </tr>\n",
       "    <tr>\n",
       "      <th>4</th>\n",
       "      <td>1984</td>\n",
       "      <td>Supergirl</td>\n",
       "      <td>DC</td>\n",
       "      <td>4.2</td>\n",
       "      <td>8</td>\n",
       "      <td>25.0</td>\n",
       "      <td>5738249.0</td>\n",
       "      <td>3.36</td>\n",
       "      <td>1707812.202</td>\n",
       "      <td>235824902</td>\n",
       "    </tr>\n",
       "  </tbody>\n",
       "</table>\n",
       "</div>"
      ],
      "text/plain": [
       "   Year         Title Comic  IMDB  RT  CompositeRating  \\\n",
       "0  1978      Superman    DC   7.3  95             84.0   \n",
       "1  1980   Superman II    DC   6.7  88             77.5   \n",
       "2  1982   Swamp Thing    DC   5.3  60             56.5   \n",
       "3  1983  Superman III    DC   4.9  24             36.5   \n",
       "4  1984     Supergirl    DC   4.2   8             25.0   \n",
       "\n",
       "   OpeningWeekendBoxOffice  AvgTicketPriceThatYear  EstdOpeningAttendance  \\\n",
       "0                7465343.0                    2.34            3190317.521   \n",
       "1               14100523.0                    2.69            5241830.112   \n",
       "2                      NaN                    2.94                    NaN   \n",
       "3               13352357.0                    3.15            4238843.492   \n",
       "4                5738249.0                    3.36            1707812.202   \n",
       "\n",
       "   USPopThatYear  \n",
       "0      222584545  \n",
       "1      227224681  \n",
       "2      231664458  \n",
       "3      233791994  \n",
       "4      235824902  "
      ]
     },
     "execution_count": 24,
     "metadata": {},
     "output_type": "execute_result"
    }
   ],
   "source": [
    "sh_raw = pd.read_csv('datasets/superhero/superhero-movie-dataset-1978-2012.csv',\n",
    "    header=None,\n",
    "    names=['Year','Title','Comic','IMDB','RT','CompositeRating','OpeningWeekendBoxOffice',\n",
    "    'AvgTicketPriceThatYear','EstdOpeningAttendance','USPopThatYear'])\n",
    "sh_raw.head(5)"
   ]
  },
  {
   "cell_type": "markdown",
   "metadata": {},
   "source": [
    "NOTE: There’s a scroll bar at the bottom of the output so you can view all the columns.\n",
    "\n",
    "* Since we will be analyzing box office numbers, we need to clean up the dataset and exclude movies where this data is missing. those columns have Not a Number NaN in the OpeningWeekendBoxOffice Series. We will use the Numpy function isfinite() to check for value numbers in this column. Type and execute: "
   ]
  },
  {
   "cell_type": "code",
   "execution_count": 32,
   "metadata": {},
   "outputs": [
    {
     "data": {
      "text/html": [
       "<div>\n",
       "<style scoped>\n",
       "    .dataframe tbody tr th:only-of-type {\n",
       "        vertical-align: middle;\n",
       "    }\n",
       "\n",
       "    .dataframe tbody tr th {\n",
       "        vertical-align: top;\n",
       "    }\n",
       "\n",
       "    .dataframe thead th {\n",
       "        text-align: right;\n",
       "    }\n",
       "</style>\n",
       "<table border=\"1\" class=\"dataframe\">\n",
       "  <thead>\n",
       "    <tr style=\"text-align: right;\">\n",
       "      <th></th>\n",
       "      <th>Year</th>\n",
       "      <th>Title</th>\n",
       "      <th>Comic</th>\n",
       "      <th>IMDB</th>\n",
       "      <th>RT</th>\n",
       "      <th>CompositeRating</th>\n",
       "      <th>OpeningWeekendBoxOffice</th>\n",
       "      <th>AvgTicketPriceThatYear</th>\n",
       "      <th>EstdOpeningAttendance</th>\n",
       "      <th>USPopThatYear</th>\n",
       "    </tr>\n",
       "  </thead>\n",
       "  <tbody>\n",
       "    <tr>\n",
       "      <th>0</th>\n",
       "      <td>1978</td>\n",
       "      <td>Superman</td>\n",
       "      <td>DC</td>\n",
       "      <td>7.3</td>\n",
       "      <td>95</td>\n",
       "      <td>84.0</td>\n",
       "      <td>7465343.0</td>\n",
       "      <td>2.34</td>\n",
       "      <td>3190317.521</td>\n",
       "      <td>222584545</td>\n",
       "    </tr>\n",
       "    <tr>\n",
       "      <th>1</th>\n",
       "      <td>1980</td>\n",
       "      <td>Superman II</td>\n",
       "      <td>DC</td>\n",
       "      <td>6.7</td>\n",
       "      <td>88</td>\n",
       "      <td>77.5</td>\n",
       "      <td>14100523.0</td>\n",
       "      <td>2.69</td>\n",
       "      <td>5241830.112</td>\n",
       "      <td>227224681</td>\n",
       "    </tr>\n",
       "    <tr>\n",
       "      <th>3</th>\n",
       "      <td>1983</td>\n",
       "      <td>Superman III</td>\n",
       "      <td>DC</td>\n",
       "      <td>4.9</td>\n",
       "      <td>24</td>\n",
       "      <td>36.5</td>\n",
       "      <td>13352357.0</td>\n",
       "      <td>3.15</td>\n",
       "      <td>4238843.492</td>\n",
       "      <td>233791994</td>\n",
       "    </tr>\n",
       "    <tr>\n",
       "      <th>4</th>\n",
       "      <td>1984</td>\n",
       "      <td>Supergirl</td>\n",
       "      <td>DC</td>\n",
       "      <td>4.2</td>\n",
       "      <td>8</td>\n",
       "      <td>25.0</td>\n",
       "      <td>5738249.0</td>\n",
       "      <td>3.36</td>\n",
       "      <td>1707812.202</td>\n",
       "      <td>235824902</td>\n",
       "    </tr>\n",
       "    <tr>\n",
       "      <th>5</th>\n",
       "      <td>1986</td>\n",
       "      <td>Howard the Duck</td>\n",
       "      <td>Marvel</td>\n",
       "      <td>4.3</td>\n",
       "      <td>16</td>\n",
       "      <td>29.5</td>\n",
       "      <td>5070136.0</td>\n",
       "      <td>3.71</td>\n",
       "      <td>1366613.477</td>\n",
       "      <td>240132887</td>\n",
       "    </tr>\n",
       "  </tbody>\n",
       "</table>\n",
       "</div>"
      ],
      "text/plain": [
       "   Year            Title   Comic  IMDB  RT  CompositeRating  \\\n",
       "0  1978         Superman      DC   7.3  95             84.0   \n",
       "1  1980      Superman II      DC   6.7  88             77.5   \n",
       "3  1983     Superman III      DC   4.9  24             36.5   \n",
       "4  1984        Supergirl      DC   4.2   8             25.0   \n",
       "5  1986  Howard the Duck  Marvel   4.3  16             29.5   \n",
       "\n",
       "   OpeningWeekendBoxOffice  AvgTicketPriceThatYear  EstdOpeningAttendance  \\\n",
       "0                7465343.0                    2.34            3190317.521   \n",
       "1               14100523.0                    2.69            5241830.112   \n",
       "3               13352357.0                    3.15            4238843.492   \n",
       "4                5738249.0                    3.36            1707812.202   \n",
       "5                5070136.0                    3.71            1366613.477   \n",
       "\n",
       "   USPopThatYear  \n",
       "0      222584545  \n",
       "1      227224681  \n",
       "3      233791994  \n",
       "4      235824902  \n",
       "5      240132887  "
      ]
     },
     "execution_count": 32,
     "metadata": {},
     "output_type": "execute_result"
    }
   ],
   "source": [
    "sh = sh_raw[np.isfinite(sh_raw.OpeningWeekendBoxOffice)]\n",
    "sh.head(5)"
   ]
  },
  {
   "cell_type": "markdown",
   "metadata": {},
   "source": [
    "You’ll notice Swamp Thing has been omitted from the output. That is because we did not have the OpeningWeekendBoxOffice value for this title.\n",
    "\n",
    "* With our dataset cleaned, we now add the calculated columns required to perform our analysis. We’d like to compare Rotten Tomatoes ratings to IMDB ratings but we have to normalize them first. Enter the following code into a new cell and execute it. You should not see any output."
   ]
  },
  {
   "cell_type": "code",
   "execution_count": 33,
   "metadata": {},
   "outputs": [],
   "source": [
    "# Normalize the scores\n",
    "imdb_normalized = sh.IMDB / 10   # IMDB scores out of 10\n",
    "sh.insert(9,'IMDBNormalized', imdb_normalized)\n",
    "rt_normalized = sh.RT/100        # RT scores out of 100\n",
    "sh.insert(9, 'RTNormalized', rt_normalized)\n"
   ]
  },
  {
   "cell_type": "markdown",
   "metadata": {},
   "source": [
    "## Plots, Distributions and Correlations\n",
    "* With our scores normalized, let’s make our first scatter plot, and explore the relationship between Rotten Tomatoes and IMDB ratings for each movie. Type and execute the following:"
   ]
  },
  {
   "cell_type": "code",
   "execution_count": 34,
   "metadata": {},
   "outputs": [
    {
     "data": {
      "text/plain": [
       "<matplotlib.axes._subplots.AxesSubplot at 0x1f5e3e9e908>"
      ]
     },
     "execution_count": 34,
     "metadata": {},
     "output_type": "execute_result"
    },
    {
     "data": {
      "image/png": "[encoded data removed]",
      "text/plain": [
       "<matplotlib.figure.Figure at 0x1f5e36fe5c0>"
      ]
     },
     "metadata": {},
     "output_type": "display_data"
    }
   ],
   "source": [
    "sh.plot.scatter(x = 'RTNormalized', y = 'IMDBNormalized')"
   ]
  },
  {
   "cell_type": "markdown",
   "metadata": {},
   "source": [
    "* At a glance you can see there’s a positive correlation, which one might suspect. It would be nice to calculate the correlation coefficient and verify how strong of a correlation. Lucky for us Pandas provides a corr() method to calculate correlations. Rather than do this to the entire DataFrame, we select the two columns in question. Type and execute the following: "
   ]
  },
  {
   "cell_type": "code",
   "execution_count": 40,
   "metadata": {},
   "outputs": [
    {
     "data": {
      "text/html": [
       "<div>\n",
       "<style scoped>\n",
       "    .dataframe tbody tr th:only-of-type {\n",
       "        vertical-align: middle;\n",
       "    }\n",
       "\n",
       "    .dataframe tbody tr th {\n",
       "        vertical-align: top;\n",
       "    }\n",
       "\n",
       "    .dataframe thead th {\n",
       "        text-align: right;\n",
       "    }\n",
       "</style>\n",
       "<table border=\"1\" class=\"dataframe\">\n",
       "  <thead>\n",
       "    <tr style=\"text-align: right;\">\n",
       "      <th></th>\n",
       "      <th>IMDBNormalized</th>\n",
       "      <th>RTNormalized</th>\n",
       "    </tr>\n",
       "  </thead>\n",
       "  <tbody>\n",
       "    <tr>\n",
       "      <th>IMDBNormalized</th>\n",
       "      <td>1.00000</td>\n",
       "      <td>0.88836</td>\n",
       "    </tr>\n",
       "    <tr>\n",
       "      <th>RTNormalized</th>\n",
       "      <td>0.88836</td>\n",
       "      <td>1.00000</td>\n",
       "    </tr>\n",
       "  </tbody>\n",
       "</table>\n",
       "</div>"
      ],
      "text/plain": [
       "                IMDBNormalized  RTNormalized\n",
       "IMDBNormalized         1.00000       0.88836\n",
       "RTNormalized           0.88836       1.00000"
      ]
     },
     "execution_count": 40,
     "metadata": {},
     "output_type": "execute_result"
    }
   ],
   "source": [
    "sh[['IMDBNormalized','RTNormalized']].corr()"
   ]
  },
  {
   "cell_type": "markdown",
   "metadata": {},
   "source": [
    "The correlation is 0.88836 which is a high positive correlation."
   ]
  },
  {
   "cell_type": "markdown",
   "metadata": {},
   "source": [
    "* The Pandas describe() method makes it easy to get summary statistics for our data, including mean, standard deviation, and percentiles. Type and execute the following: "
   ]
  },
  {
   "cell_type": "code",
   "execution_count": 41,
   "metadata": {},
   "outputs": [
    {
     "data": {
      "text/html": [
       "<div>\n",
       "<style scoped>\n",
       "    .dataframe tbody tr th:only-of-type {\n",
       "        vertical-align: middle;\n",
       "    }\n",
       "\n",
       "    .dataframe tbody tr th {\n",
       "        vertical-align: top;\n",
       "    }\n",
       "\n",
       "    .dataframe thead th {\n",
       "        text-align: right;\n",
       "    }\n",
       "</style>\n",
       "<table border=\"1\" class=\"dataframe\">\n",
       "  <thead>\n",
       "    <tr style=\"text-align: right;\">\n",
       "      <th></th>\n",
       "      <th>IMDBNormalized</th>\n",
       "      <th>RTNormalized</th>\n",
       "    </tr>\n",
       "  </thead>\n",
       "  <tbody>\n",
       "    <tr>\n",
       "      <th>count</th>\n",
       "      <td>46.000000</td>\n",
       "      <td>46.000000</td>\n",
       "    </tr>\n",
       "    <tr>\n",
       "      <th>mean</th>\n",
       "      <td>0.630000</td>\n",
       "      <td>0.539783</td>\n",
       "    </tr>\n",
       "    <tr>\n",
       "      <th>std</th>\n",
       "      <td>0.152898</td>\n",
       "      <td>0.302129</td>\n",
       "    </tr>\n",
       "    <tr>\n",
       "      <th>min</th>\n",
       "      <td>0.270000</td>\n",
       "      <td>0.080000</td>\n",
       "    </tr>\n",
       "    <tr>\n",
       "      <th>25%</th>\n",
       "      <td>0.540000</td>\n",
       "      <td>0.260000</td>\n",
       "    </tr>\n",
       "    <tr>\n",
       "      <th>50%</th>\n",
       "      <td>0.665000</td>\n",
       "      <td>0.605000</td>\n",
       "    </tr>\n",
       "    <tr>\n",
       "      <th>75%</th>\n",
       "      <td>0.740000</td>\n",
       "      <td>0.812500</td>\n",
       "    </tr>\n",
       "    <tr>\n",
       "      <th>max</th>\n",
       "      <td>0.910000</td>\n",
       "      <td>0.950000</td>\n",
       "    </tr>\n",
       "  </tbody>\n",
       "</table>\n",
       "</div>"
      ],
      "text/plain": [
       "       IMDBNormalized  RTNormalized\n",
       "count       46.000000     46.000000\n",
       "mean         0.630000      0.539783\n",
       "std          0.152898      0.302129\n",
       "min          0.270000      0.080000\n",
       "25%          0.540000      0.260000\n",
       "50%          0.665000      0.605000\n",
       "75%          0.740000      0.812500\n",
       "max          0.910000      0.950000"
      ]
     },
     "execution_count": 41,
     "metadata": {},
     "output_type": "execute_result"
    }
   ],
   "source": [
    "sh[['IMDBNormalized','RTNormalized']].describe()"
   ]
  },
  {
   "cell_type": "markdown",
   "metadata": {},
   "source": [
    "From the output its interesting to note from the 25th percentile (25%) Rotten Tomatoes has more lower ratings for the same movies than IMDB."
   ]
  },
  {
   "cell_type": "markdown",
   "metadata": {},
   "source": [
    "## Advanced Plotting\n",
    "* Suppose we want to plot the Estimated Opening Attendance against the IMDB and Rotten Tomatoes scores. We need two Series on our scatter plot. We do this by assigning the plot to a variable, in this case we use plt and then in the next plot call we include ax=plt to incorporate the first plot into the second one. While we’re at it we set the axis labels to more meaningful values. Type in the following code:"
   ]
  },
  {
   "cell_type": "code",
   "execution_count": 43,
   "metadata": {},
   "outputs": [
    {
     "data": {
      "text/plain": [
       "<matplotlib.axes._subplots.AxesSubplot at 0x1f5e64746a0>"
      ]
     },
     "execution_count": 43,
     "metadata": {},
     "output_type": "execute_result"
    },
    {
     "data": {
      "image/png": "[encoded data removed]",
      "text/plain": [
       "<matplotlib.figure.Figure at 0x1f5e6474470>"
      ]
     },
     "metadata": {},
     "output_type": "display_data"
    }
   ],
   "source": [
    "plt = sh.plot.scatter(x='RTNormalized',y='EstdOpeningAttendance', marker='x', color='Red', label='Rotten Tomatoes')\n",
    "plt = sh.plot.scatter(x='IMDBNormalized',y='EstdOpeningAttendance', marker='o', ax=plt, color='Blue', label='IMDB')\n",
    "plt.set_xlabel(\"Normalized Score [0-1]\")\n",
    "plt.set_ylabel(\"Estd. Opening Weekend Attendance\")\n",
    "plt"
   ]
  },
  {
   "cell_type": "markdown",
   "metadata": {},
   "source": [
    "For each Series, we’ve included a different marker=, color=, and label= so the viewer can differentiate between IMDB and Rotten Tomatoes data points. Neato!\n",
    "\n",
    "* How about a trendline? For this final example, let’s compare the Average Ticket Price to the Year the movie was released. We will then add a trend line to the data points. To accomplish this we create another Series using Numpy’s polyfit() method to perform a least-squares polynomial fit over our data. Once we have the series, p, we then add it to a DataFrame and then plot it as a line() in color='Green'. Type in the following code in a new cell:"
   ]
  },
  {
   "cell_type": "code",
   "execution_count": 44,
   "metadata": {},
   "outputs": [
    {
     "data": {
      "text/plain": [
       "<matplotlib.axes._subplots.AxesSubplot at 0x1f5e6467a20>"
      ]
     },
     "execution_count": 44,
     "metadata": {},
     "output_type": "execute_result"
    },
    {
     "data": {
      "image/png": "[encoded data removed]",
      "text/plain": [
       "<matplotlib.figure.Figure at 0x1f5e6567198>"
      ]
     },
     "metadata": {},
     "output_type": "display_data"
    }
   ],
   "source": [
    "plt = sh.plot.scatter(x = 'Year', y='AvgTicketPriceThatYear')\n",
    "z = np.polyfit(x=sh.Year,y=sh.AvgTicketPriceThatYear, deg=5)\n",
    "p = np.poly1d(z)\n",
    "trendline = pd.DataFrame(data=p(sh.Year), index=sh.Year)\n",
    "trendline.plot.line(ax=plt, color='Green')"
   ]
  },
  {
   "cell_type": "markdown",
   "metadata": {},
   "source": [
    "When you execute the cell you will see our data and the trend line: "
   ]
  },
  {
   "cell_type": "markdown",
   "metadata": {},
   "source": [
    "NOTE: The argument deg=5 represents a 5th degree polynomial. For a straight line, change this to deg=1 and execute again.\n",
    "\n",
    "## Test Yourself\n",
    "1. Define a Pandas Series.\n",
    "* Define a Pandas DataFrame, use the term Series in your definition.\n",
    "* In Pandas, how would you only show 'DC' comic movies from the sh DataFrame?\n",
    "* In Pandas, how would you only show the Year, Title and OpeningWeekendBoxOffice columns from DataFrame sh?\n",
    "* In Pandas, how would you only show the Year and Title of only 'Marvel' movies from DataFrame sh?\n",
    "* Write a command to plot a line() AvgTicketPriceThatYear with Year on the x axis. Make the line Black.\n",
    "\n",
    "## Part 3 On Your Own\n",
    "### Instructions\n",
    "Open a new Notebook called <b>lab02_fname_lname.ipynb</b>. Write code in seperate cells to answer each question.\n",
    "\n",
    "### Questions\n",
    "Write each program in its own cell.\n",
    "\n",
    "1. Load the 'datasets/exam-scores/exam-scores.csv' into a pandas DataFrame called scores. Note since this data set has headers, you can omit the header=None and names= arguments.\n",
    "* Write a program to determine if there is a correlation between a Student’s score and the time it took them to complete the examination. Is there such a correlation?\n",
    "* Filter the scores for exam version 'D' only. what does the correlation look like now? Is it different? How so?\n",
    "* Let’s the relationship between students who Made their own study guide and their exam score. Create a variable study containing the columns 'Made Own Study Guide', 'Student Score' and removes the rows with '?' in the Made Own Study Guide column. The output should look like this: \n",
    "\n",
    "| |Made Own Study Guide|Student Score|\n",
    "|-|--------------------|-------------|\n",
    "|0|N                   |24           |\n",
    "|2|Y                   |30           |\n",
    "|3|N                   |18           |\n",
    "|4|Y                   |24           |\n",
    "|5|N                   |25           |\n",
    "5) Next we need to convert the Made Own Study Guide to a numeric value. To do this we will create a new series and add it to the DataFrame. Hint: use a list comprehension to evaluate 'Y' or 'N' and convert them to 1 or 0 respectively. When you’re done your study DataFrame should look like this:\n",
    "\n",
    "| |Made Own Study Guide|Student Score|Study Guide Value|\n",
    "|-|--------------------|-------------|-----------------|\n",
    "|0|N                   |24           |0                |\n",
    "|2|Y                   |30           |1                |\n",
    "|3|N                   |18           |0                |\n",
    "|4|Y                   |24           |1                |\n",
    "|5|N                   |25           |0                |\n",
    "6) What is the correlation between the 'StudyGuideValue' and Exam Scores? Plot a scatter with 'StudyGuideValue' on the x axis, and include a screen shot."
   ]
  },
  {
   "cell_type": "code",
   "execution_count": 45,
   "metadata": {},
   "outputs": [],
   "source": [
    "import pandas as pd"
   ]
  },
  {
   "cell_type": "code",
   "execution_count": 50,
   "metadata": {
    "scrolled": true
   },
   "outputs": [
    {
     "data": {
      "text/html": [
       "<div>\n",
       "<style scoped>\n",
       "    .dataframe tbody tr th:only-of-type {\n",
       "        vertical-align: middle;\n",
       "    }\n",
       "\n",
       "    .dataframe tbody tr th {\n",
       "        vertical-align: top;\n",
       "    }\n",
       "\n",
       "    .dataframe thead th {\n",
       "        text-align: right;\n",
       "    }\n",
       "</style>\n",
       "<table border=\"1\" class=\"dataframe\">\n",
       "  <thead>\n",
       "    <tr style=\"text-align: right;\">\n",
       "      <th></th>\n",
       "      <th>Class_Section</th>\n",
       "      <th>Exam_Version</th>\n",
       "      <th>Completion_Time</th>\n",
       "      <th>Made_Own_Study_Guide</th>\n",
       "      <th>Did_Exam_Prep Assignment</th>\n",
       "      <th>Studied_In_Groups</th>\n",
       "      <th>Student_Score</th>\n",
       "      <th>Percentage</th>\n",
       "      <th>Letter_Grade</th>\n",
       "    </tr>\n",
       "  </thead>\n",
       "  <tbody>\n",
       "    <tr>\n",
       "      <th>0</th>\n",
       "      <td>M01</td>\n",
       "      <td>A</td>\n",
       "      <td>20</td>\n",
       "      <td>N</td>\n",
       "      <td>N</td>\n",
       "      <td>Y</td>\n",
       "      <td>24</td>\n",
       "      <td>80.00%</td>\n",
       "      <td>B</td>\n",
       "    </tr>\n",
       "    <tr>\n",
       "      <th>1</th>\n",
       "      <td>M01</td>\n",
       "      <td>A</td>\n",
       "      <td>20</td>\n",
       "      <td>?</td>\n",
       "      <td>?</td>\n",
       "      <td>?</td>\n",
       "      <td>27</td>\n",
       "      <td>90.00%</td>\n",
       "      <td>A-</td>\n",
       "    </tr>\n",
       "    <tr>\n",
       "      <th>2</th>\n",
       "      <td>M01</td>\n",
       "      <td>A</td>\n",
       "      <td>30</td>\n",
       "      <td>Y</td>\n",
       "      <td>Y</td>\n",
       "      <td>Y</td>\n",
       "      <td>30</td>\n",
       "      <td>100.00%</td>\n",
       "      <td>A</td>\n",
       "    </tr>\n",
       "    <tr>\n",
       "      <th>3</th>\n",
       "      <td>M01</td>\n",
       "      <td>A</td>\n",
       "      <td>50</td>\n",
       "      <td>N</td>\n",
       "      <td>Y</td>\n",
       "      <td>Y</td>\n",
       "      <td>18</td>\n",
       "      <td>60.00%</td>\n",
       "      <td>C-</td>\n",
       "    </tr>\n",
       "    <tr>\n",
       "      <th>4</th>\n",
       "      <td>M01</td>\n",
       "      <td>A</td>\n",
       "      <td>55</td>\n",
       "      <td>Y</td>\n",
       "      <td>Y</td>\n",
       "      <td>N</td>\n",
       "      <td>24</td>\n",
       "      <td>80.00%</td>\n",
       "      <td>B</td>\n",
       "    </tr>\n",
       "  </tbody>\n",
       "</table>\n",
       "</div>"
      ],
      "text/plain": [
       "  Class_Section Exam_Version  Completion_Time Made_Own_Study_Guide  \\\n",
       "0           M01            A               20                    N   \n",
       "1           M01            A               20                    ?   \n",
       "2           M01            A               30                    Y   \n",
       "3           M01            A               50                    N   \n",
       "4           M01            A               55                    Y   \n",
       "\n",
       "  Did_Exam_Prep Assignment Studied_In_Groups  Student_Score Percentage  \\\n",
       "0                        N                 Y             24     80.00%   \n",
       "1                        ?                 ?             27     90.00%   \n",
       "2                        Y                 Y             30    100.00%   \n",
       "3                        Y                 Y             18     60.00%   \n",
       "4                        Y                 N             24     80.00%   \n",
       "\n",
       "  Letter_Grade  \n",
       "0            B  \n",
       "1           A-  \n",
       "2            A  \n",
       "3           C-  \n",
       "4            B  "
      ]
     },
     "execution_count": 50,
     "metadata": {},
     "output_type": "execute_result"
    }
   ],
   "source": [
    "# 1. Load the 'datasets/exam-scores/exam-scores.csv' into a pandas DataFrame called scores. Note since this data set has headers, you can omit the header=None and names= arguments.\n",
    "exam = pd.read_csv(\"https://raw.githubusercontent.com/mafudge/datasets/master/exam-scores/exam-scores.csv\")\n",
    "exam.head(5)"
   ]
  },
  {
   "cell_type": "code",
   "execution_count": 51,
   "metadata": {},
   "outputs": [
    {
     "data": {
      "text/html": [
       "<div>\n",
       "<style scoped>\n",
       "    .dataframe tbody tr th:only-of-type {\n",
       "        vertical-align: middle;\n",
       "    }\n",
       "\n",
       "    .dataframe tbody tr th {\n",
       "        vertical-align: top;\n",
       "    }\n",
       "\n",
       "    .dataframe thead th {\n",
       "        text-align: right;\n",
       "    }\n",
       "</style>\n",
       "<table border=\"1\" class=\"dataframe\">\n",
       "  <thead>\n",
       "    <tr style=\"text-align: right;\">\n",
       "      <th></th>\n",
       "      <th>Completion_Time</th>\n",
       "      <th>Student_Score</th>\n",
       "    </tr>\n",
       "  </thead>\n",
       "  <tbody>\n",
       "    <tr>\n",
       "      <th>Completion_Time</th>\n",
       "      <td>1.000000</td>\n",
       "      <td>0.057516</td>\n",
       "    </tr>\n",
       "    <tr>\n",
       "      <th>Student_Score</th>\n",
       "      <td>0.057516</td>\n",
       "      <td>1.000000</td>\n",
       "    </tr>\n",
       "  </tbody>\n",
       "</table>\n",
       "</div>"
      ],
      "text/plain": [
       "                 Completion_Time  Student_Score\n",
       "Completion_Time         1.000000       0.057516\n",
       "Student_Score           0.057516       1.000000"
      ]
     },
     "execution_count": 51,
     "metadata": {},
     "output_type": "execute_result"
    }
   ],
   "source": [
    "# 2. Write a program to determine if there is a correlation between a Student’s score and the time it took them to complete the examination. Is there such a correlation?\n",
    "exam[['Completion_Time','Student_Score']].corr()"
   ]
  },
  {
   "cell_type": "markdown",
   "metadata": {},
   "source": [
    "There is no correlation between completion time and student score."
   ]
  },
  {
   "cell_type": "code",
   "execution_count": 53,
   "metadata": {},
   "outputs": [
    {
     "data": {
      "text/html": [
       "<div>\n",
       "<style scoped>\n",
       "    .dataframe tbody tr th:only-of-type {\n",
       "        vertical-align: middle;\n",
       "    }\n",
       "\n",
       "    .dataframe tbody tr th {\n",
       "        vertical-align: top;\n",
       "    }\n",
       "\n",
       "    .dataframe thead th {\n",
       "        text-align: right;\n",
       "    }\n",
       "</style>\n",
       "<table border=\"1\" class=\"dataframe\">\n",
       "  <thead>\n",
       "    <tr style=\"text-align: right;\">\n",
       "      <th></th>\n",
       "      <th>Completion_Time</th>\n",
       "      <th>Student_Score</th>\n",
       "    </tr>\n",
       "  </thead>\n",
       "  <tbody>\n",
       "    <tr>\n",
       "      <th>Completion_Time</th>\n",
       "      <td>1.000000</td>\n",
       "      <td>0.287306</td>\n",
       "    </tr>\n",
       "    <tr>\n",
       "      <th>Student_Score</th>\n",
       "      <td>0.287306</td>\n",
       "      <td>1.000000</td>\n",
       "    </tr>\n",
       "  </tbody>\n",
       "</table>\n",
       "</div>"
      ],
      "text/plain": [
       "                 Completion_Time  Student_Score\n",
       "Completion_Time         1.000000       0.287306\n",
       "Student_Score           0.287306       1.000000"
      ]
     },
     "execution_count": 53,
     "metadata": {},
     "output_type": "execute_result"
    }
   ],
   "source": [
    "# 3. Filter the scores for exam version 'D' only. what does the correlation look like now? Is it different? How so?\n",
    "d_exam = exam[exam.Exam_Version == 'D']\n",
    "d_exam[['Completion_Time','Student_Score']].corr()"
   ]
  },
  {
   "cell_type": "markdown",
   "metadata": {},
   "source": [
    "There are about 28% correlation between completion time and student score for D version exams."
   ]
  },
  {
   "cell_type": "code",
   "execution_count": 58,
   "metadata": {},
   "outputs": [],
   "source": [
    "# 4. Let’s the relationship between students who Made their own study guide and their exam score. Create a variable study containing the columns 'Made Own Study Guide', 'Student Score' and removes the rows with '?' in the Made Own Study Guide column. The output should look like this:\n",
    "# filter by none ? and then select columns...\n",
    "exam1 = exam[exam.Made_Own_Study_Guide != '?'][['Made_Own_Study_Guide','Student_Score']]"
   ]
  },
  {
   "cell_type": "code",
   "execution_count": 60,
   "metadata": {},
   "outputs": [],
   "source": [
    "# 5. Next we need to convert the Made Own Study Guide to a numeric value. To do this we will create a new series and add it to the DataFrame. Hint: use a list comprehension to evaluate 'Y' or 'N' and convert them to 1 or 0 respectively. When you’re done your study DataFrame should look like this:\n",
    "list = []\n",
    "for x in exam1.Made_Own_Study_Guide:\n",
    "    if x == 'Y':\n",
    "        list.append(1)\n",
    "    else:\n",
    "        list.append(0)\n",
    "exam1.insert(2,'Study_Guide_Value',list)"
   ]
  },
  {
   "cell_type": "code",
   "execution_count": 63,
   "metadata": {},
   "outputs": [
    {
     "data": {
      "text/html": [
       "<div>\n",
       "<style scoped>\n",
       "    .dataframe tbody tr th:only-of-type {\n",
       "        vertical-align: middle;\n",
       "    }\n",
       "\n",
       "    .dataframe tbody tr th {\n",
       "        vertical-align: top;\n",
       "    }\n",
       "\n",
       "    .dataframe thead th {\n",
       "        text-align: right;\n",
       "    }\n",
       "</style>\n",
       "<table border=\"1\" class=\"dataframe\">\n",
       "  <thead>\n",
       "    <tr style=\"text-align: right;\">\n",
       "      <th></th>\n",
       "      <th>Study_Guide_Value</th>\n",
       "      <th>Student_Score</th>\n",
       "    </tr>\n",
       "  </thead>\n",
       "  <tbody>\n",
       "    <tr>\n",
       "      <th>Study_Guide_Value</th>\n",
       "      <td>1.000000</td>\n",
       "      <td>0.399788</td>\n",
       "    </tr>\n",
       "    <tr>\n",
       "      <th>Student_Score</th>\n",
       "      <td>0.399788</td>\n",
       "      <td>1.000000</td>\n",
       "    </tr>\n",
       "  </tbody>\n",
       "</table>\n",
       "</div>"
      ],
      "text/plain": [
       "                   Study_Guide_Value  Student_Score\n",
       "Study_Guide_Value           1.000000       0.399788\n",
       "Student_Score               0.399788       1.000000"
      ]
     },
     "execution_count": 63,
     "metadata": {},
     "output_type": "execute_result"
    }
   ],
   "source": [
    "# 6.  What is the correlation between the 'StudyGuideValue' and Exam Scores? Plot a scatter with 'StudyGuideValue' on the x axis, and include a screen sho\n",
    "exam1[['Study_Guide_Value','Student_Score']].corr()"
   ]
  },
  {
   "cell_type": "markdown",
   "metadata": {},
   "source": [
    "High correlation between made own study guide and the student score."
   ]
  },
  {
   "cell_type": "code",
   "execution_count": 66,
   "metadata": {},
   "outputs": [
    {
     "data": {
      "text/plain": [
       "<matplotlib.axes._subplots.AxesSubplot at 0x1f5e4d28518>"
      ]
     },
     "execution_count": 66,
     "metadata": {},
     "output_type": "execute_result"
    },
    {
     "data": {
      "image/png": "[encoded data removed]",
      "text/plain": [
       "<matplotlib.figure.Figure at 0x1f5e4d38550>"
      ]
     },
     "metadata": {},
     "output_type": "display_data"
    }
   ],
   "source": [
    "exam1.plot.scatter(x='Study_Guide_Value', y='Student_Score')"
   ]
  },
  {
   "cell_type": "markdown",
   "metadata": {},
   "source": [
    "Those who made their study guide has a litte higher score."
   ]
  },
  {
   "cell_type": "code",
   "execution_count": null,
   "metadata": {},
   "outputs": [],
   "source": []
  }
 ],
 "metadata": {
  "kernelspec": {
   "display_name": "Python 3",
   "language": "python",
   "name": "python3"
  },
  "language_info": {
   "codemirror_mode": {
    "name": "ipython",
    "version": 3
   },
   "file_extension": ".py",
   "mimetype": "text/x-python",
   "name": "python",
   "nbconvert_exporter": "python",
   "pygments_lexer": "ipython3",
   "version": "3.6.4"
  }
 },
 "nbformat": 4,
 "nbformat_minor": 2
}
