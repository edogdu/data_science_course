{
 "cells": [
  {
   "cell_type": "markdown",
   "metadata": {},
   "source": [
    "# Python Basics"
   ]
  },
  {
   "cell_type": "markdown",
   "metadata": {},
   "source": [
    "Name:\n",
    "\n",
    "ID:\n",
    "\n",
    "Date:"
   ]
  },
  {
   "cell_type": "markdown",
   "metadata": {},
   "source": [
    "## About\n",
    "In this lab you will become familiar with the Jupyter notebook interactive computing environment and learn the basics of programming in Python 3.\n",
    "\n",
    "### Learning Outcomes\n",
    "Upon completing this lab you will be able to: - Know how to use the Jupyter notebook for Python programming - Understand and apply the basics of the Python programming language.\n",
    "\n",
    "### Requirements\n",
    "To complete this lab you will need:\n",
    "\n",
    "* Anaconda Distribution of Python3.\n",
    "* A clone of the mafudge/datasets repository on Github: https://github.com/mafudge/datasets this should be placed in your home directory where you are doing this lab.\n",
    "\n",
    "NOTE: We can’t teach you everything about python, that’s why we recommend the following resources:\n",
    "\n",
    "The Python Tutorial: https://docs.python.org/3/\n",
    "\n",
    "Note: This lab is adapted from: http://classes.ischool.syr.edu/ist718/content/unit02/lab-python/#unit-02-lab-1-python-programming"
   ]
  },
  {
   "cell_type": "markdown",
   "metadata": {},
   "source": [
    "## Variables and types\n",
    "Python infers the data type from the data itself. Type the following code in to a new cell and execute it:"
   ]
  },
  {
   "cell_type": "code",
   "execution_count": 1,
   "metadata": {},
   "outputs": [
    {
     "name": "stdout",
     "output_type": "stream",
     "text": [
      "<class 'int'>\n",
      "<class 'float'>\n",
      "<class 'str'>\n"
     ]
    }
   ],
   "source": [
    "# variables and types\n",
    "x = 10  # int\n",
    "print(type(x))\n",
    "pi = 3.14   #float\n",
    "print(type(pi))\n",
    "name = 'bob' # string\n",
    "print(type(name))"
   ]
  },
  {
   "cell_type": "markdown",
   "metadata": {},
   "source": [
    "## Operators\n",
    "Here’s some common arithmetic operators in Python. Type the following code in to a new cell and execute it:"
   ]
  },
  {
   "cell_type": "code",
   "execution_count": 2,
   "metadata": {},
   "outputs": [
    {
     "name": "stdout",
     "output_type": "stream",
     "text": [
      "7\n",
      "3\n",
      "10\n",
      "2.5\n",
      "2\n",
      "1\n"
     ]
    }
   ],
   "source": [
    "# arithmetic operators\n",
    "x,y = 5,2\n",
    "print (x+y) # 5+2\n",
    "print (x-y) # 5-2\n",
    "print (x*y) # 5x2\n",
    "print (x/y) # 5/2\n",
    "print (x//y)# 5/2 (as integers)\n",
    "print (x%y) # Remainder of 5/2"
   ]
  },
  {
   "cell_type": "markdown",
   "metadata": {},
   "source": [
    "Here’s an example of Python’s <b>Logical Operators</b> these evaluate to the boolean value of True or False. Type the following code in to a new cell and execute it:"
   ]
  },
  {
   "cell_type": "code",
   "execution_count": 3,
   "metadata": {},
   "outputs": [
    {
     "name": "stdout",
     "output_type": "stream",
     "text": [
      "False\n",
      "True\n",
      "False\n",
      "True\n"
     ]
    }
   ],
   "source": [
    "# logical operators. evalutate to True or False\n",
    "x,y = 5,2\n",
    "print (x == y) # 5 equals 2 ?\n",
    "print (x > y)  # 5 greater than 2 ?\n",
    "print (x < y)  # 5 less than 2 ?\n",
    "print (x != y) # 5 not equal to 2 ?"
   ]
  },
  {
   "cell_type": "markdown",
   "metadata": {},
   "source": [
    "## Lists and Comprehensions\n",
    "Python lists store collections of similar items. List items are indexed with brackets [] and the starting index is 0. Type the following code in to a new cell and execute it:"
   ]
  },
  {
   "cell_type": "code",
   "execution_count": 1,
   "metadata": {},
   "outputs": [
    {
     "name": "stdout",
     "output_type": "stream",
     "text": [
      "this only test\n",
      "[88, 92, 80]\n",
      "5\n",
      "['a', 'is', 'only', 'test', 'this']\n"
     ]
    }
   ],
   "source": [
    "# lists / arrays: Collections of similar items\n",
    "words = ['this', 'is', 'only','a','test']\n",
    "temperatures = [90, 85, 88, 92, 80, 78, 72]\n",
    "\n",
    "# indexing first, 3rd and last words\n",
    "print ( words[0], words[2], words[-1])\n",
    "\n",
    "#slicing, gets [2], [3] and [4]\n",
    "print(temperatures[2:5])\n",
    "\n",
    "# how many words?\n",
    "print (len(words))\n",
    "\n",
    "# sort the words\n",
    "print(sorted(words))"
   ]
  },
  {
   "cell_type": "markdown",
   "metadata": {},
   "source": [
    "Python’s <b>list comprehensions</b> allow us to create new lists from lists. This example is fairly straightforward. Type it into a new cell and execute:"
   ]
  },
  {
   "cell_type": "code",
   "execution_count": 2,
   "metadata": {},
   "outputs": [
    {
     "name": "stdout",
     "output_type": "stream",
     "text": [
      "[1, 2, 3, 4, 5, 6, 7, 8, 9]\n",
      "[1, 4, 9, 16, 25, 36, 49, 64, 81]\n",
      "[1, 9, 25, 49, 81]\n"
     ]
    }
   ],
   "source": [
    "# comprehensions make new lists from lists.\n",
    "numbers = list(range(1,10))\n",
    "squares =[n*n for n in numbers]\n",
    "odd_squares = [n*n for n in numbers if n%2==1]\n",
    "print (numbers)\n",
    "print (squares)\n",
    "print (odd_squares)"
   ]
  },
  {
   "cell_type": "markdown",
   "metadata": {},
   "source": [
    "## Tuples and Dictionaries\n",
    "Tuples, unlike lists, are for collections of dissimilar items. However they are indexed like lists, except they are immutable: you can’t change them. Type this code into a new cell and execute:"
   ]
  },
  {
   "cell_type": "code",
   "execution_count": 3,
   "metadata": {},
   "outputs": [
    {
     "name": "stdout",
     "output_type": "stream",
     "text": [
      "('Syracuse', 'NY', 75)\n",
      "NY\n"
     ]
    }
   ],
   "source": [
    "# tuples: immutable collections of dissimiar items, work just like lists.\n",
    "weather = ('Syracuse','NY', 75)\n",
    "print (weather)\n",
    "\n",
    "# get NY\n",
    "print(weather[1])"
   ]
  },
  {
   "cell_type": "markdown",
   "metadata": {},
   "source": [
    "Python Dictionaries are key-value pairs. They’re like tuples but rather than indexed by number they are indexed by their key. Unlike tuples, they can be changed, too. Type this code into a new cell and execute:"
   ]
  },
  {
   "cell_type": "code",
   "execution_count": 4,
   "metadata": {},
   "outputs": [
    {
     "name": "stdout",
     "output_type": "stream",
     "text": [
      "Bob 22\n",
      "Bob 23\n"
     ]
    }
   ],
   "source": [
    "# Dictionaries: Key vaylue pairs: indexed by key\n",
    "student = { 'Name' : 'Bob', 'GPA' : 3.45, 'Age': 22}\n",
    "\n",
    "# print the name and age\n",
    "print(student['Name'], student['Age'])\n",
    "\n",
    "student['Age'] = 23 # Happy birthday\n",
    "print(student['Name'], student['Age'])"
   ]
  },
  {
   "cell_type": "markdown",
   "metadata": {},
   "source": [
    "## Functions and Lambdas\n",
    "Python functions are code subroutines which can be re-used. They allow us to extend the language with our own commands which add modularity and programming clarity to our code. Type and execute:"
   ]
  },
  {
   "cell_type": "code",
   "execution_count": 5,
   "metadata": {},
   "outputs": [
    {
     "name": "stdout",
     "output_type": "stream",
     "text": [
      "area 3.14159\n",
      "circumference 6.28318\n"
     ]
    }
   ],
   "source": [
    "# functions\n",
    "def area(radius):\n",
    "    return 3.14159 * radius * radius\n",
    "\n",
    "def circumference(radius):\n",
    "    return 3.14159 * 2 * radius\n",
    "\n",
    "r = 1\n",
    "print('area', area(r))\n",
    "print('circumference', circumference(r))"
   ]
  },
  {
   "cell_type": "markdown",
   "metadata": {},
   "source": [
    "## Lambda functions\n",
    "Un-named inline functions. They’re used when you’re just too lazy to create a function with def. Execute:"
   ]
  },
  {
   "cell_type": "code",
   "execution_count": 6,
   "metadata": {},
   "outputs": [
    {
     "name": "stdout",
     "output_type": "stream",
     "text": [
      "area 3.14159\n",
      "circumference 6.28318\n"
     ]
    }
   ],
   "source": [
    "#lambda functions\n",
    "\n",
    "r = 1\n",
    "area = lambda radius: 3.14159 * radius * radius\n",
    "circumference = lambda radius: 3.14159 * 2 * radius\n",
    "\n",
    "print('area', area(r))\n",
    "print('circumference', circumference(r))"
   ]
  },
  {
   "cell_type": "markdown",
   "metadata": {},
   "source": [
    "Lambdas and Lists: Lambdas are often used to apply an anonymous function through a filter() or map() operation. This is similar to a List Comprehension. Execute:"
   ]
  },
  {
   "cell_type": "code",
   "execution_count": 7,
   "metadata": {},
   "outputs": [
    {
     "name": "stdout",
     "output_type": "stream",
     "text": [
      "Even Numbers [6, 2, 4, 8, 6]\n",
      "Squares [1, 36, 4, 16, 81, 64, 9, 36]\n"
     ]
    }
   ],
   "source": [
    "# lambdas and lists\n",
    "numbers = [1,6,2,4,9,8,3,6]\n",
    "\n",
    "even_numbers = list(filter(lambda n: n%2==0, numbers))\n",
    "squares = list(map(lambda n: n*n, numbers))\n",
    "\n",
    "print('Even Numbers', even_numbers)\n",
    "print('Squares', squares)"
   ]
  },
  {
   "cell_type": "markdown",
   "metadata": {},
   "source": [
    "## Decisions\n",
    "When we need to make decisions in our code and branch execution based on boolean values we use If…Elif…Else Type this example and execute it 3 times. Giving a different age each time as to trigger each of the three different outputs:"
   ]
  },
  {
   "cell_type": "code",
   "execution_count": 8,
   "metadata": {},
   "outputs": [
    {
     "name": "stdout",
     "output_type": "stream",
     "text": [
      "How old are you? 45\n",
      "Welcome to the daily grind!\n"
     ]
    }
   ],
   "source": [
    "# decisions\n",
    "age = int(input('How old are you? '))\n",
    "if age <=21:\n",
    "    print (\"You're just a kid!\")\n",
    "elif age <65:\n",
    "    print (\"Welcome to the daily grind!\")\n",
    "else:\n",
    "    print (\"Time to retire!\")"
   ]
  },
  {
   "cell_type": "markdown",
   "metadata": {},
   "source": [
    "## Loops\n",
    "In Python the For loop can be used to repeat a series of commands for each item in a list. This example will split a string sentence into a list of words and then for each word, counts it if the word is appears. Execute the following:"
   ]
  },
  {
   "cell_type": "code",
   "execution_count": 9,
   "metadata": {},
   "outputs": [
    {
     "name": "stdout",
     "output_type": "stream",
     "text": [
      "The word \"is\" appears 4 times\n"
     ]
    }
   ],
   "source": [
    "# loops\n",
    "sentence = \"this is a test this is only a test that is all it is\"\n",
    "words = sentence.split(' ') # make a list of words\n",
    "count = 0\n",
    "for word in words:\n",
    "    if word == 'is':\n",
    "        count = count + 1\n",
    "\n",
    "print ('The word \"is\" appears', count, 'times')"
   ]
  },
  {
   "cell_type": "markdown",
   "metadata": {},
   "source": [
    "## Files\n",
    "Reading from data files with Python is simple. To do this we use the with open statement. Here’s an example to read the preamble.txt file. Type and execute:"
   ]
  },
  {
   "cell_type": "code",
   "execution_count": 10,
   "metadata": {},
   "outputs": [
    {
     "name": "stdout",
     "output_type": "stream",
     "text": [
      "We the people of the United States, in order to form a more perfect union, establish justice, insure domestic tranquility, provide for the common defense, promote the general welfare, and secure the blessings of liberty to ourselves and our posterity, do ordain and establish this Constitution for the United States of America.\n"
     ]
    }
   ],
   "source": [
    "# read a file\n",
    "with open('datasets/text/preamble.txt') as file:\n",
    "    for line in file:\n",
    "        print (line)"
   ]
  },
  {
   "cell_type": "markdown",
   "metadata": {},
   "source": [
    "In our final example we put a couple of ideas together to write a program that counts the number of words in the preamble. Execute:"
   ]
  },
  {
   "cell_type": "code",
   "execution_count": 11,
   "metadata": {},
   "outputs": [
    {
     "name": "stdout",
     "output_type": "stream",
     "text": [
      "There are 52 words in the preamble\n"
     ]
    }
   ],
   "source": [
    "# word counts:\n",
    "count = 0\n",
    "with open('datasets/text/preamble.txt') as file:\n",
    "    for line in file:\n",
    "        for words in line.split(' '):\n",
    "            count = count + 1\n",
    "\n",
    "print(\"There are\",count,\"words in the preamble\")"
   ]
  },
  {
   "cell_type": "markdown",
   "metadata": {},
   "source": [
    "## Test Yourself\n",
    "1. What are the three basic data types we explored in this exercise?\n",
    "\n",
    "sdlfksdfl\n",
    "\n",
    "* What are the three structure data types we explored in this exercise?\n",
    "* Explain when you should use a list versus a tuple?\n",
    "* How is a Dictionary different from a tuple?\n",
    "* What is the advantage of a lambda over a regular function?\n"
   ]
  },
  {
   "cell_type": "markdown",
   "metadata": {},
   "source": [
    "## Homework\n",
    "1. Write a program to ask for an integer value and then print out that number squared. For example when you input 3 the output would be 9\n",
    "* Write a program to print odd when the integer you input is an odd number or print even when you input is an even number.\n",
    "* Create your own list of words. Write a program to loop through the words and print out the first letter of each word. for example if your word list is '['what','the','fudge'] the output would be w t f\n",
    "* Modify your program in the previous example to print out the last letter in each word.\n",
    "* Write a program to ask you to enter a word at run time, then counts the number of time that word appears in datasets/text/zork1-walkthru.txt"
   ]
  },
  {
   "cell_type": "code",
   "execution_count": 12,
   "metadata": {},
   "outputs": [
    {
     "name": "stdout",
     "output_type": "stream",
     "text": [
      "Enter an integer:3\n",
      "9\n"
     ]
    }
   ],
   "source": [
    "#HW1 \n",
    "num = int(input(\"Enter an integer:\"))\n",
    "print(num*num)"
   ]
  }
 ],
 "metadata": {
  "kernelspec": {
   "display_name": "Python 3",
   "language": "python",
   "name": "python3"
  },
  "language_info": {
   "codemirror_mode": {
    "name": "ipython",
    "version": 3
   },
   "file_extension": ".py",
   "mimetype": "text/x-python",
   "name": "python",
   "nbconvert_exporter": "python",
   "pygments_lexer": "ipython3",
   "version": "3.6.4"
  }
 },
 "nbformat": 4,
 "nbformat_minor": 2
}
